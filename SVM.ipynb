{
 "metadata": {
  "language_info": {
   "codemirror_mode": {
    "name": "ipython",
    "version": 3
   },
   "file_extension": ".py",
   "mimetype": "text/x-python",
   "name": "python",
   "nbconvert_exporter": "python",
   "pygments_lexer": "ipython3",
   "version": "3.7.6-final"
  },
  "orig_nbformat": 2,
  "kernelspec": {
   "name": "python3",
   "display_name": "Python 3",
   "language": "python"
  }
 },
 "nbformat": 4,
 "nbformat_minor": 2,
 "cells": [
  {
   "cell_type": "code",
   "execution_count": 47,
   "metadata": {},
   "outputs": [],
   "source": [
    "import os\n",
    "import pandas as pd\n",
    "import numpy as np\n",
    "from sklearn.model_selection import train_test_split\n",
    "from keras.preprocessing.image import ImageDataGenerator\n",
    "from keras.models import Sequential\n",
    "from keras import layers\n",
    "from keras.layers import Conv2D, MaxPooling2D, Dropout, Flatten, Dense, Activation,GlobalMaxPooling2D\n",
    "from keras import applications\n",
    "from keras.preprocessing.image import ImageDataGenerator\n",
    "from keras import optimizers\n",
    "from keras.applications import VGG16\n",
    "from keras.models import Model\n",
    "from keras.layers import merge, Input\n",
    "from keras.callbacks import ModelCheckpoint, EarlyStopping\n",
    "import pickle"
   ]
  },
  {
   "cell_type": "code",
   "execution_count": 48,
   "metadata": {},
   "outputs": [],
   "source": [
    "from pathlib import Path\n",
    "train_dir = \"kaggle_bee_vs_wasp/\"\n",
    "bs = 64 # Batch size\n",
    "resize_size = 224 # for training, resize all the images to a square of this size\n",
    "training_subsample = 0.3 # for development, use a small fraction of the entire dataset rater than full dataset\n",
    "\n",
    "bees_vs_wasps_dataset_path=Path(train_dir) # this is relative to the \"example_notebook\" folder. Modify this to reflect your setup\n",
    "df_labels = pd.read_csv(bees_vs_wasps_dataset_path/'labels.csv')\n",
    "df_labels=df_labels.set_index('id')\n",
    "# perform dataset subsampling\n",
    "df_labels = df_labels.sample(frac=training_subsample, axis=0)\n",
    "insect_class = {'bee': 0,'wasp': 1, 'insect': 2,'other': 3} \n",
    "#df_labels.label = [insect_class[item] for item in df_labels.label] \n",
    "df_labels = df_labels[['path','label']]"
   ]
  },
  {
   "cell_type": "code",
   "execution_count": 49,
   "metadata": {},
   "outputs": [],
   "source": [
    "#Uncomment to read data from csv\n",
    "#df_labels = pd.read_csv(\"Dataset_full.csv\") #full dataset\n",
    "#df_labels = pd.read_csv(\"Dataset_10precent.csv\") #0.1 fraction for development"
   ]
  },
  {
   "cell_type": "code",
   "execution_count": 50,
   "metadata": {},
   "outputs": [],
   "source": [
    "train_df, test_df = train_test_split(df_labels, test_size=0.1)\n",
    "test_df = test_df.reset_index(drop=True)\n",
    "train_df = train_df.reset_index(drop=True)"
   ]
  },
  {
   "cell_type": "code",
   "execution_count": 51,
   "metadata": {},
   "outputs": [],
   "source": [
    "image_input = Input(shape=(resize_size, resize_size, 3))\n",
    "model = VGG16(input_tensor=image_input, include_top=True,weights='imagenet')\n",
    "last_layer = model.get_layer('block5_pool')\n",
    "last_output = last_layer.output\n",
    "x = Flatten()(last_output)\n",
    "custom_vgg_model = Model(image_input, x)\n",
    "custom_vgg_model.compile(loss='sparse_categorical_crossentropy',optimizer='adadelta',metrics=['accuracy'])\n",
    "for layer in custom_vgg_model.layers:\n",
    "\tlayer.trainable = False\n",
    "custom_vgg_model.summary()"
   ]
  },
  {
   "cell_type": "code",
   "execution_count": 52,
   "metadata": {},
   "outputs": [],
   "source": [
    "train_datagen = ImageDataGenerator(\n",
    "    rescale=1./255,\n",
    ")\n",
    "\n",
    "train_generator = train_datagen.flow_from_dataframe(\n",
    "    train_df, \n",
    "    train_dir,  \n",
    "    x_col='path',\n",
    "    y_col='label',\n",
    "    class_mode='sparse',\n",
    "    target_size=(resize_size, resize_size),\n",
    "    batch_size=1,\n",
    "    shuffle = False\n",
    ")\n",
    "\n",
    "\n",
    "filenames = train_generator.filenames\n",
    "n_train_samples = len(filenames)\n",
    "train_features = custom_vgg_model.predict(train_generator, steps=n_train_samples, verbose=1)\n",
    "\n",
    "\n",
    "\n",
    "\n"
   ]
  },
  {
   "cell_type": "code",
   "execution_count": 53,
   "metadata": {},
   "outputs": [],
   "source": [
    "\n",
    "test_datagen = ImageDataGenerator(rescale=1./255)\n",
    "test_generator = test_datagen.flow_from_dataframe(\n",
    "    test_df, \n",
    "    train_dir, \n",
    "    x_col='path',\n",
    "    y_col='label',\n",
    "    class_mode='sparse',\n",
    "    target_size=(resize_size, resize_size),\n",
    "    batch_size=1,\n",
    "    shuffle = False\n",
    ")\n",
    "\n",
    "\n",
    "filenames = test_generator.filenames\n",
    "n_test_samples = len(filenames)\n",
    "test_features = custom_vgg_model.predict(train_generator, steps=n_test_samples, verbose=1)"
   ]
  },
  {
   "cell_type": "code",
   "execution_count": 54,
   "metadata": {},
   "outputs": [],
   "source": [
    "\n",
    "#X = pd.read_csv(\"train_features.csv\")\n",
    "X = train_features\n",
    "y = np.array(train_generator.labels)"
   ]
  },
  {
   "cell_type": "code",
   "execution_count": 64,
   "metadata": {},
   "outputs": [],
   "source": [
    "test_features.shape"
   ]
  },
  {
   "cell_type": "code",
   "execution_count": 55,
   "metadata": {},
   "outputs": [],
   "source": [
    "from sklearn import svm\n",
    "lin_svm = svm.SVC(kernel='linear')\n",
    "quadratic_svm = svm.SVC(kernel='poly', degree=2)\n",
    "exp_svm = svm.SVC(kernel='rbf')\n",
    "lin_svm.fit(X,y)\n",
    "pickle.dump(lin_svm, open('lin_svm.sav', 'wb'))"
   ]
  },
  {
   "cell_type": "code",
   "execution_count": 56,
   "metadata": {},
   "outputs": [],
   "source": [
    "quadratic_svm.fit(X,y)\n",
    "pickle.dump(quadratic_svm, open('quadratic_svm.sav', 'wb'))\n"
   ]
  },
  {
   "cell_type": "code",
   "execution_count": 57,
   "metadata": {},
   "outputs": [],
   "source": [
    "exp_svm.fit(X,y)\n",
    "pickle.dump(exp_svm, open('exp_svm.sav', 'wb'))"
   ]
  },
  {
   "cell_type": "code",
   "execution_count": 58,
   "metadata": {},
   "outputs": [],
   "source": []
  },
  {
   "cell_type": "code",
   "execution_count": 59,
   "metadata": {},
   "outputs": [],
   "source": [
    "from sklearn.metrics import accuracy_score\n",
    "\n",
    "lin_score =  accuracy_score(test_generator.labels, test_features)\n",
    "\n",
    "quadratic_score = accuracy_score(test_generator.labels, test_features)\n",
    "exp_score = accuracy_score(test_generator.labels, test_features)"
   ]
  },
  {
   "cell_type": "code",
   "execution_count": 60,
   "metadata": {},
   "outputs": [],
    }
   ],
   "source": [
    "print(\"Lin score \" + str(lin_score))\n",
    "print(\"Quadratic score \" + str(quadratic_score))\n",
    "print(\"Exp score \" + str(exp_score))"
   ]
  },
  {
   "cell_type": "code",
   "execution_count": 67,
   "metadata": {},
   "outputs": [],
     },
     "metadata": {},
     "execution_count": 67
    }
   ],
   "source": [
    "lin_svm.predict(test_features)"
   ]
  },
  {
   "cell_type": "code",
   "execution_count": 60,
   "metadata": {},
   "outputs": [],
   "source": [
    "np.savetxt(\"model2_svm/lin_score.csv\",  \n",
    "           np.array([lin_score]), \n",
    "           delimiter =\", \",  \n",
    "           fmt ='% s') \n",
    "np.savetxt(\"model2_svm/quadratic_score.csv\",  \n",
    "           np.array([quadratic_score]), \n",
    "           delimiter =\", \",  \n",
    "           fmt ='% s') \n",
    "np.savetxt(\"model2_svm/exp_score.csv\",  \n",
    "           np.array([exp_score]), \n",
    "           delimiter =\", \",  \n",
    "           fmt ='% s') "
   ]
  },
  {
   "cell_type": "code",
   "execution_count": null,
   "metadata": {},
   "outputs": [],
   "source": []
  },
  {
   "cell_type": "code",
   "execution_count": 63,
   "metadata": {},
   "outputs": []
  },
  {
   "cell_type": "code",
   "execution_count": 68,
   "metadata": {},
   "outputs": [],
   "source": []
  },
  {
   "cell_type": "code",
   "execution_count": 94,
   "metadata": {},
   "outputs": [],
   "source": [
    "\n",
    "pred = test_model.predict(test_features)"
   ]
  },
  {
   "cell_type": "code",
   "execution_count": 98,
   "metadata": {},
   "outputs": [],
     },
     "metadata": {},
     "execution_count": 98
    },
    {
     "output_type": "display_data",
     "data": {
      "text/plain": "<Figure size 432x288 with 2 Axes>",
      "image/svg+xml": "<?xml version=\"1.0\" encoding=\"utf-8\" standalone=\"no\"?>\r\n<!DOCTYPE svg PUBLIC \"-//W3C//DTD SVG 1.1//EN\"\r\n  \"http://www.w3.org/Graphics/SVG/1.1/DTD/svg11.dtd\">\r\n<!-- Created with matplotlib (https://matplotlib.org/) -->\r\n<svg height=\"248.518125pt\" version=\"1.1\" viewBox=\"0 0 346.255125 248.518125\" width=\"346.255125pt\" xmlns=\"http://www.w3.org/2000/svg\" xmlns:xlink=\"http://www.w3.org/1999/xlink\">\r\n <defs>\r\n  <style type=\"text/css\">\r\n*{stroke-linecap:butt;stroke-linejoin:round;}\r\n  </style>\r\n </defs>\r\n <g id=\"figure_1\">\r\n  <g id=\"patch_1\">\r\n   <path d=\"M -0 248.518125 \r\nL 346.255125 248.518125 \r\nL 346.255125 0 \r\nL -0 0 \r\nz\r\n\" style=\"fill:none;\"/>\r\n  </g>\r\n  <g id=\"axes_1\">\r\n   <g id=\"patch_2\">\r\n    <path d=\"M 23.878125 224.64 \r\nL 291.718125 224.64 \r\nL 291.718125 7.2 \r\nL 23.878125 7.2 \r\nz\r\n\" style=\"fill:#ffffff;\"/>\r\n   </g>\r\n   <g id=\"QuadMesh_1\">\r\n    <path clip-path=\"url(#pefb2f9f37b)\" d=\"M 23.878125 7.2 \r\nL 90.838125 7.2 \r\nL 90.838125 61.56 \r\nL 23.878125 61.56 \r\nL 23.878125 7.2 \r\n\" style=\"fill:#faebdd;\"/>\r\n    <path clip-path=\"url(#pefb2f9f37b)\" d=\"M 90.838125 7.2 \r\nL 157.798125 7.2 \r\nL 157.798125 61.56 \r\nL 90.838125 61.56 \r\nL 90.838125 7.2 \r\n\" style=\"fill:#b71657;\"/>\r\n    <path clip-path=\"url(#pefb2f9f37b)\" d=\"M 157.798125 7.2 \r\nL 224.758125 7.2 \r\nL 224.758125 61.56 \r\nL 157.798125 61.56 \r\nL 157.798125 7.2 \r\n\" style=\"fill:#751f58;\"/>\r\n    <path clip-path=\"url(#pefb2f9f37b)\" d=\"M 224.758125 7.2 \r\nL 291.718125 7.2 \r\nL 291.718125 61.56 \r\nL 224.758125 61.56 \r\nL 224.758125 7.2 \r\n\" style=\"fill:#fae6d6;\"/>\r\n    <path clip-path=\"url(#pefb2f9f37b)\" d=\"M 23.878125 61.56 \r\nL 90.838125 61.56 \r\nL 90.838125 115.92 \r\nL 23.878125 115.92 \r\nL 23.878125 61.56 \r\n\" style=\"fill:#971c5b;\"/>\r\n    <path clip-path=\"url(#pefb2f9f37b)\" d=\"M 90.838125 61.56 \r\nL 157.798125 61.56 \r\nL 157.798125 115.92 \r\nL 90.838125 115.92 \r\nL 90.838125 61.56 \r\n\" style=\"fill:#3d1a42;\"/>\r\n    <path clip-path=\"url(#pefb2f9f37b)\" d=\"M 157.798125 61.56 \r\nL 224.758125 61.56 \r\nL 224.758125 115.92 \r\nL 157.798125 115.92 \r\nL 157.798125 61.56 \r\n\" style=\"fill:#251433;\"/>\r\n    <path clip-path=\"url(#pefb2f9f37b)\" d=\"M 224.758125 61.56 \r\nL 291.718125 61.56 \r\nL 291.718125 115.92 \r\nL 224.758125 115.92 \r\nL 224.758125 61.56 \r\n\" style=\"fill:#e83f3f;\"/>\r\n    <path clip-path=\"url(#pefb2f9f37b)\" d=\"M 23.878125 115.92 \r\nL 90.838125 115.92 \r\nL 90.838125 170.28 \r\nL 23.878125 170.28 \r\nL 23.878125 115.92 \r\n\" style=\"fill:#661f54;\"/>\r\n    <path clip-path=\"url(#pefb2f9f37b)\" d=\"M 90.838125 115.92 \r\nL 157.798125 115.92 \r\nL 157.798125 170.28 \r\nL 90.838125 170.28 \r\nL 90.838125 115.92 \r\n\" style=\"fill:#03051a;\"/>\r\n    <path clip-path=\"url(#pefb2f9f37b)\" d=\"M 157.798125 115.92 \r\nL 224.758125 115.92 \r\nL 224.758125 170.28 \r\nL 157.798125 170.28 \r\nL 157.798125 115.92 \r\n\" style=\"fill:#0a091f;\"/>\r\n    <path clip-path=\"url(#pefb2f9f37b)\" d=\"M 224.758125 115.92 \r\nL 291.718125 115.92 \r\nL 291.718125 170.28 \r\nL 224.758125 170.28 \r\nL 224.758125 115.92 \r\n\" style=\"fill:#6b1f56;\"/>\r\n    <path clip-path=\"url(#pefb2f9f37b)\" d=\"M 23.878125 170.28 \r\nL 90.838125 170.28 \r\nL 90.838125 224.64 \r\nL 23.878125 224.64 \r\nL 23.878125 170.28 \r\n\" style=\"fill:#f6c19f;\"/>\r\n    <path clip-path=\"url(#pefb2f9f37b)\" d=\"M 90.838125 170.28 \r\nL 157.798125 170.28 \r\nL 157.798125 224.64 \r\nL 90.838125 224.64 \r\nL 90.838125 170.28 \r\n\" style=\"fill:#bc1656;\"/>\r\n    <path clip-path=\"url(#pefb2f9f37b)\" d=\"M 157.798125 170.28 \r\nL 224.758125 170.28 \r\nL 224.758125 224.64 \r\nL 157.798125 224.64 \r\nL 157.798125 170.28 \r\n\" style=\"fill:#9c1b5b;\"/>\r\n    <path clip-path=\"url(#pefb2f9f37b)\" d=\"M 224.758125 170.28 \r\nL 291.718125 170.28 \r\nL 291.718125 224.64 \r\nL 224.758125 224.64 \r\nL 224.758125 170.28 \r\n\" style=\"fill:#f9ddc9;\"/>\r\n   </g>\r\n   <g id=\"matplotlib.axis_1\">\r\n    <g id=\"xtick_1\">\r\n     <g id=\"line2d_1\">\r\n      <defs>\r\n       <path d=\"M 0 0 \r\nL 0 3.5 \r\n\" id=\"mb4a556d0f8\" style=\"stroke:#000000;stroke-width:0.8;\"/>\r\n      </defs>\r\n      <g>\r\n       <use style=\"stroke:#000000;stroke-width:0.8;\" x=\"57.358125\" xlink:href=\"#mb4a556d0f8\" y=\"224.64\"/>\r\n      </g>\r\n     </g>\r\n     <g id=\"text_1\">\r\n      <!-- bee -->\r\n      <defs>\r\n       <path d=\"M 48.6875 27.296875 \r\nQ 48.6875 37.203125 44.609375 42.84375 \r\nQ 40.53125 48.484375 33.40625 48.484375 \r\nQ 26.265625 48.484375 22.1875 42.84375 \r\nQ 18.109375 37.203125 18.109375 27.296875 \r\nQ 18.109375 17.390625 22.1875 11.75 \r\nQ 26.265625 6.109375 33.40625 6.109375 \r\nQ 40.53125 6.109375 44.609375 11.75 \r\nQ 48.6875 17.390625 48.6875 27.296875 \r\nz\r\nM 18.109375 46.390625 \r\nQ 20.953125 51.265625 25.265625 53.625 \r\nQ 29.59375 56 35.59375 56 \r\nQ 45.5625 56 51.78125 48.09375 \r\nQ 58.015625 40.1875 58.015625 27.296875 \r\nQ 58.015625 14.40625 51.78125 6.484375 \r\nQ 45.5625 -1.421875 35.59375 -1.421875 \r\nQ 29.59375 -1.421875 25.265625 0.953125 \r\nQ 20.953125 3.328125 18.109375 8.203125 \r\nL 18.109375 0 \r\nL 9.078125 0 \r\nL 9.078125 75.984375 \r\nL 18.109375 75.984375 \r\nz\r\n\" id=\"DejaVuSans-98\"/>\r\n       <path d=\"M 56.203125 29.59375 \r\nL 56.203125 25.203125 \r\nL 14.890625 25.203125 \r\nQ 15.484375 15.921875 20.484375 11.0625 \r\nQ 25.484375 6.203125 34.421875 6.203125 \r\nQ 39.59375 6.203125 44.453125 7.46875 \r\nQ 49.3125 8.734375 54.109375 11.28125 \r\nL 54.109375 2.78125 \r\nQ 49.265625 0.734375 44.1875 -0.34375 \r\nQ 39.109375 -1.421875 33.890625 -1.421875 \r\nQ 20.796875 -1.421875 13.15625 6.1875 \r\nQ 5.515625 13.8125 5.515625 26.8125 \r\nQ 5.515625 40.234375 12.765625 48.109375 \r\nQ 20.015625 56 32.328125 56 \r\nQ 43.359375 56 49.78125 48.890625 \r\nQ 56.203125 41.796875 56.203125 29.59375 \r\nz\r\nM 47.21875 32.234375 \r\nQ 47.125 39.59375 43.09375 43.984375 \r\nQ 39.0625 48.390625 32.421875 48.390625 \r\nQ 24.90625 48.390625 20.390625 44.140625 \r\nQ 15.875 39.890625 15.1875 32.171875 \r\nz\r\n\" id=\"DejaVuSans-101\"/>\r\n      </defs>\r\n      <g transform=\"translate(48.030781 239.238438)scale(0.1 -0.1)\">\r\n       <use xlink:href=\"#DejaVuSans-98\"/>\r\n       <use x=\"63.476562\" xlink:href=\"#DejaVuSans-101\"/>\r\n       <use x=\"125\" xlink:href=\"#DejaVuSans-101\"/>\r\n      </g>\r\n     </g>\r\n    </g>\r\n    <g id=\"xtick_2\">\r\n     <g id=\"line2d_2\">\r\n      <g>\r\n       <use style=\"stroke:#000000;stroke-width:0.8;\" x=\"124.318125\" xlink:href=\"#mb4a556d0f8\" y=\"224.64\"/>\r\n      </g>\r\n     </g>\r\n     <g id=\"text_2\">\r\n      <!-- insect -->\r\n      <defs>\r\n       <path d=\"M 9.421875 54.6875 \r\nL 18.40625 54.6875 \r\nL 18.40625 0 \r\nL 9.421875 0 \r\nz\r\nM 9.421875 75.984375 \r\nL 18.40625 75.984375 \r\nL 18.40625 64.59375 \r\nL 9.421875 64.59375 \r\nz\r\n\" id=\"DejaVuSans-105\"/>\r\n       <path d=\"M 54.890625 33.015625 \r\nL 54.890625 0 \r\nL 45.90625 0 \r\nL 45.90625 32.71875 \r\nQ 45.90625 40.484375 42.875 44.328125 \r\nQ 39.84375 48.1875 33.796875 48.1875 \r\nQ 26.515625 48.1875 22.3125 43.546875 \r\nQ 18.109375 38.921875 18.109375 30.90625 \r\nL 18.109375 0 \r\nL 9.078125 0 \r\nL 9.078125 54.6875 \r\nL 18.109375 54.6875 \r\nL 18.109375 46.1875 \r\nQ 21.34375 51.125 25.703125 53.5625 \r\nQ 30.078125 56 35.796875 56 \r\nQ 45.21875 56 50.046875 50.171875 \r\nQ 54.890625 44.34375 54.890625 33.015625 \r\nz\r\n\" id=\"DejaVuSans-110\"/>\r\n       <path d=\"M 44.28125 53.078125 \r\nL 44.28125 44.578125 \r\nQ 40.484375 46.53125 36.375 47.5 \r\nQ 32.28125 48.484375 27.875 48.484375 \r\nQ 21.1875 48.484375 17.84375 46.4375 \r\nQ 14.5 44.390625 14.5 40.28125 \r\nQ 14.5 37.15625 16.890625 35.375 \r\nQ 19.28125 33.59375 26.515625 31.984375 \r\nL 29.59375 31.296875 \r\nQ 39.15625 29.25 43.1875 25.515625 \r\nQ 47.21875 21.78125 47.21875 15.09375 \r\nQ 47.21875 7.46875 41.1875 3.015625 \r\nQ 35.15625 -1.421875 24.609375 -1.421875 \r\nQ 20.21875 -1.421875 15.453125 -0.5625 \r\nQ 10.6875 0.296875 5.421875 2 \r\nL 5.421875 11.28125 \r\nQ 10.40625 8.6875 15.234375 7.390625 \r\nQ 20.0625 6.109375 24.8125 6.109375 \r\nQ 31.15625 6.109375 34.5625 8.28125 \r\nQ 37.984375 10.453125 37.984375 14.40625 \r\nQ 37.984375 18.0625 35.515625 20.015625 \r\nQ 33.0625 21.96875 24.703125 23.78125 \r\nL 21.578125 24.515625 \r\nQ 13.234375 26.265625 9.515625 29.90625 \r\nQ 5.8125 33.546875 5.8125 39.890625 \r\nQ 5.8125 47.609375 11.28125 51.796875 \r\nQ 16.75 56 26.8125 56 \r\nQ 31.78125 56 36.171875 55.265625 \r\nQ 40.578125 54.546875 44.28125 53.078125 \r\nz\r\n\" id=\"DejaVuSans-115\"/>\r\n       <path d=\"M 48.78125 52.59375 \r\nL 48.78125 44.1875 \r\nQ 44.96875 46.296875 41.140625 47.34375 \r\nQ 37.3125 48.390625 33.40625 48.390625 \r\nQ 24.65625 48.390625 19.8125 42.84375 \r\nQ 14.984375 37.3125 14.984375 27.296875 \r\nQ 14.984375 17.28125 19.8125 11.734375 \r\nQ 24.65625 6.203125 33.40625 6.203125 \r\nQ 37.3125 6.203125 41.140625 7.25 \r\nQ 44.96875 8.296875 48.78125 10.40625 \r\nL 48.78125 2.09375 \r\nQ 45.015625 0.34375 40.984375 -0.53125 \r\nQ 36.96875 -1.421875 32.421875 -1.421875 \r\nQ 20.0625 -1.421875 12.78125 6.34375 \r\nQ 5.515625 14.109375 5.515625 27.296875 \r\nQ 5.515625 40.671875 12.859375 48.328125 \r\nQ 20.21875 56 33.015625 56 \r\nQ 37.15625 56 41.109375 55.140625 \r\nQ 45.0625 54.296875 48.78125 52.59375 \r\nz\r\n\" id=\"DejaVuSans-99\"/>\r\n       <path d=\"M 18.3125 70.21875 \r\nL 18.3125 54.6875 \r\nL 36.8125 54.6875 \r\nL 36.8125 47.703125 \r\nL 18.3125 47.703125 \r\nL 18.3125 18.015625 \r\nQ 18.3125 11.328125 20.140625 9.421875 \r\nQ 21.96875 7.515625 27.59375 7.515625 \r\nL 36.8125 7.515625 \r\nL 36.8125 0 \r\nL 27.59375 0 \r\nQ 17.1875 0 13.234375 3.875 \r\nQ 9.28125 7.765625 9.28125 18.015625 \r\nL 9.28125 47.703125 \r\nL 2.6875 47.703125 \r\nL 2.6875 54.6875 \r\nL 9.28125 54.6875 \r\nL 9.28125 70.21875 \r\nz\r\n\" id=\"DejaVuSans-116\"/>\r\n      </defs>\r\n      <g transform=\"translate(109.369688 239.238438)scale(0.1 -0.1)\">\r\n       <use xlink:href=\"#DejaVuSans-105\"/>\r\n       <use x=\"27.783203\" xlink:href=\"#DejaVuSans-110\"/>\r\n       <use x=\"91.162109\" xlink:href=\"#DejaVuSans-115\"/>\r\n       <use x=\"143.261719\" xlink:href=\"#DejaVuSans-101\"/>\r\n       <use x=\"204.785156\" xlink:href=\"#DejaVuSans-99\"/>\r\n       <use x=\"259.765625\" xlink:href=\"#DejaVuSans-116\"/>\r\n      </g>\r\n     </g>\r\n    </g>\r\n    <g id=\"xtick_3\">\r\n     <g id=\"line2d_3\">\r\n      <g>\r\n       <use style=\"stroke:#000000;stroke-width:0.8;\" x=\"191.278125\" xlink:href=\"#mb4a556d0f8\" y=\"224.64\"/>\r\n      </g>\r\n     </g>\r\n     <g id=\"text_3\">\r\n      <!-- other -->\r\n      <defs>\r\n       <path d=\"M 30.609375 48.390625 \r\nQ 23.390625 48.390625 19.1875 42.75 \r\nQ 14.984375 37.109375 14.984375 27.296875 \r\nQ 14.984375 17.484375 19.15625 11.84375 \r\nQ 23.34375 6.203125 30.609375 6.203125 \r\nQ 37.796875 6.203125 41.984375 11.859375 \r\nQ 46.1875 17.53125 46.1875 27.296875 \r\nQ 46.1875 37.015625 41.984375 42.703125 \r\nQ 37.796875 48.390625 30.609375 48.390625 \r\nz\r\nM 30.609375 56 \r\nQ 42.328125 56 49.015625 48.375 \r\nQ 55.71875 40.765625 55.71875 27.296875 \r\nQ 55.71875 13.875 49.015625 6.21875 \r\nQ 42.328125 -1.421875 30.609375 -1.421875 \r\nQ 18.84375 -1.421875 12.171875 6.21875 \r\nQ 5.515625 13.875 5.515625 27.296875 \r\nQ 5.515625 40.765625 12.171875 48.375 \r\nQ 18.84375 56 30.609375 56 \r\nz\r\n\" id=\"DejaVuSans-111\"/>\r\n       <path d=\"M 54.890625 33.015625 \r\nL 54.890625 0 \r\nL 45.90625 0 \r\nL 45.90625 32.71875 \r\nQ 45.90625 40.484375 42.875 44.328125 \r\nQ 39.84375 48.1875 33.796875 48.1875 \r\nQ 26.515625 48.1875 22.3125 43.546875 \r\nQ 18.109375 38.921875 18.109375 30.90625 \r\nL 18.109375 0 \r\nL 9.078125 0 \r\nL 9.078125 75.984375 \r\nL 18.109375 75.984375 \r\nL 18.109375 46.1875 \r\nQ 21.34375 51.125 25.703125 53.5625 \r\nQ 30.078125 56 35.796875 56 \r\nQ 45.21875 56 50.046875 50.171875 \r\nQ 54.890625 44.34375 54.890625 33.015625 \r\nz\r\n\" id=\"DejaVuSans-104\"/>\r\n       <path d=\"M 41.109375 46.296875 \r\nQ 39.59375 47.171875 37.8125 47.578125 \r\nQ 36.03125 48 33.890625 48 \r\nQ 26.265625 48 22.1875 43.046875 \r\nQ 18.109375 38.09375 18.109375 28.8125 \r\nL 18.109375 0 \r\nL 9.078125 0 \r\nL 9.078125 54.6875 \r\nL 18.109375 54.6875 \r\nL 18.109375 46.1875 \r\nQ 20.953125 51.171875 25.484375 53.578125 \r\nQ 30.03125 56 36.53125 56 \r\nQ 37.453125 56 38.578125 55.875 \r\nQ 39.703125 55.765625 41.0625 55.515625 \r\nz\r\n\" id=\"DejaVuSans-114\"/>\r\n      </defs>\r\n      <g transform=\"translate(177.957813 239.238438)scale(0.1 -0.1)\">\r\n       <use xlink:href=\"#DejaVuSans-111\"/>\r\n       <use x=\"61.181641\" xlink:href=\"#DejaVuSans-116\"/>\r\n       <use x=\"100.390625\" xlink:href=\"#DejaVuSans-104\"/>\r\n       <use x=\"163.769531\" xlink:href=\"#DejaVuSans-101\"/>\r\n       <use x=\"225.292969\" xlink:href=\"#DejaVuSans-114\"/>\r\n      </g>\r\n     </g>\r\n    </g>\r\n    <g id=\"xtick_4\">\r\n     <g id=\"line2d_4\">\r\n      <g>\r\n       <use style=\"stroke:#000000;stroke-width:0.8;\" x=\"258.238125\" xlink:href=\"#mb4a556d0f8\" y=\"224.64\"/>\r\n      </g>\r\n     </g>\r\n     <g id=\"text_4\">\r\n      <!-- wasp -->\r\n      <defs>\r\n       <path d=\"M 4.203125 54.6875 \r\nL 13.1875 54.6875 \r\nL 24.421875 12.015625 \r\nL 35.59375 54.6875 \r\nL 46.1875 54.6875 \r\nL 57.421875 12.015625 \r\nL 68.609375 54.6875 \r\nL 77.59375 54.6875 \r\nL 63.28125 0 \r\nL 52.6875 0 \r\nL 40.921875 44.828125 \r\nL 29.109375 0 \r\nL 18.5 0 \r\nz\r\n\" id=\"DejaVuSans-119\"/>\r\n       <path d=\"M 34.28125 27.484375 \r\nQ 23.390625 27.484375 19.1875 25 \r\nQ 14.984375 22.515625 14.984375 16.5 \r\nQ 14.984375 11.71875 18.140625 8.90625 \r\nQ 21.296875 6.109375 26.703125 6.109375 \r\nQ 34.1875 6.109375 38.703125 11.40625 \r\nQ 43.21875 16.703125 43.21875 25.484375 \r\nL 43.21875 27.484375 \r\nz\r\nM 52.203125 31.203125 \r\nL 52.203125 0 \r\nL 43.21875 0 \r\nL 43.21875 8.296875 \r\nQ 40.140625 3.328125 35.546875 0.953125 \r\nQ 30.953125 -1.421875 24.3125 -1.421875 \r\nQ 15.921875 -1.421875 10.953125 3.296875 \r\nQ 6 8.015625 6 15.921875 \r\nQ 6 25.140625 12.171875 29.828125 \r\nQ 18.359375 34.515625 30.609375 34.515625 \r\nL 43.21875 34.515625 \r\nL 43.21875 35.40625 \r\nQ 43.21875 41.609375 39.140625 45 \r\nQ 35.0625 48.390625 27.6875 48.390625 \r\nQ 23 48.390625 18.546875 47.265625 \r\nQ 14.109375 46.140625 10.015625 43.890625 \r\nL 10.015625 52.203125 \r\nQ 14.9375 54.109375 19.578125 55.046875 \r\nQ 24.21875 56 28.609375 56 \r\nQ 40.484375 56 46.34375 49.84375 \r\nQ 52.203125 43.703125 52.203125 31.203125 \r\nz\r\n\" id=\"DejaVuSans-97\"/>\r\n       <path d=\"M 18.109375 8.203125 \r\nL 18.109375 -20.796875 \r\nL 9.078125 -20.796875 \r\nL 9.078125 54.6875 \r\nL 18.109375 54.6875 \r\nL 18.109375 46.390625 \r\nQ 20.953125 51.265625 25.265625 53.625 \r\nQ 29.59375 56 35.59375 56 \r\nQ 45.5625 56 51.78125 48.09375 \r\nQ 58.015625 40.1875 58.015625 27.296875 \r\nQ 58.015625 14.40625 51.78125 6.484375 \r\nQ 45.5625 -1.421875 35.59375 -1.421875 \r\nQ 29.59375 -1.421875 25.265625 0.953125 \r\nQ 20.953125 3.328125 18.109375 8.203125 \r\nz\r\nM 48.6875 27.296875 \r\nQ 48.6875 37.203125 44.609375 42.84375 \r\nQ 40.53125 48.484375 33.40625 48.484375 \r\nQ 26.265625 48.484375 22.1875 42.84375 \r\nQ 18.109375 37.203125 18.109375 27.296875 \r\nQ 18.109375 17.390625 22.1875 11.75 \r\nQ 26.265625 6.109375 33.40625 6.109375 \r\nQ 40.53125 6.109375 44.609375 11.75 \r\nQ 48.6875 17.390625 48.6875 27.296875 \r\nz\r\n\" id=\"DejaVuSans-112\"/>\r\n      </defs>\r\n      <g transform=\"translate(245.306094 239.238438)scale(0.1 -0.1)\">\r\n       <use xlink:href=\"#DejaVuSans-119\"/>\r\n       <use x=\"81.787109\" xlink:href=\"#DejaVuSans-97\"/>\r\n       <use x=\"143.066406\" xlink:href=\"#DejaVuSans-115\"/>\r\n       <use x=\"195.166016\" xlink:href=\"#DejaVuSans-112\"/>\r\n      </g>\r\n     </g>\r\n    </g>\r\n   </g>\r\n   <g id=\"matplotlib.axis_2\">\r\n    <g id=\"ytick_1\">\r\n     <g id=\"line2d_5\">\r\n      <defs>\r\n       <path d=\"M 0 0 \r\nL -3.5 0 \r\n\" id=\"m9f651fb91e\" style=\"stroke:#000000;stroke-width:0.8;\"/>\r\n      </defs>\r\n      <g>\r\n       <use style=\"stroke:#000000;stroke-width:0.8;\" x=\"23.878125\" xlink:href=\"#m9f651fb91e\" y=\"34.38\"/>\r\n      </g>\r\n     </g>\r\n     <g id=\"text_5\">\r\n      <!-- bee -->\r\n      <g transform=\"translate(14.798437 49.235469)rotate(-90)scale(0.1 -0.1)\">\r\n       <use xlink:href=\"#DejaVuSans-98\"/>\r\n       <use x=\"63.476562\" xlink:href=\"#DejaVuSans-101\"/>\r\n       <use x=\"125\" xlink:href=\"#DejaVuSans-101\"/>\r\n      </g>\r\n     </g>\r\n    </g>\r\n    <g id=\"ytick_2\">\r\n     <g id=\"line2d_6\">\r\n      <g>\r\n       <use style=\"stroke:#000000;stroke-width:0.8;\" x=\"23.878125\" xlink:href=\"#m9f651fb91e\" y=\"88.74\"/>\r\n      </g>\r\n     </g>\r\n     <g id=\"text_6\">\r\n      <!-- insect -->\r\n      <g transform=\"translate(14.798437 114.837656)rotate(-90)scale(0.1 -0.1)\">\r\n       <use xlink:href=\"#DejaVuSans-105\"/>\r\n       <use x=\"27.783203\" xlink:href=\"#DejaVuSans-110\"/>\r\n       <use x=\"91.162109\" xlink:href=\"#DejaVuSans-115\"/>\r\n       <use x=\"143.261719\" xlink:href=\"#DejaVuSans-101\"/>\r\n       <use x=\"204.785156\" xlink:href=\"#DejaVuSans-99\"/>\r\n       <use x=\"259.765625\" xlink:href=\"#DejaVuSans-116\"/>\r\n      </g>\r\n     </g>\r\n    </g>\r\n    <g id=\"ytick_3\">\r\n     <g id=\"line2d_7\">\r\n      <g>\r\n       <use style=\"stroke:#000000;stroke-width:0.8;\" x=\"23.878125\" xlink:href=\"#m9f651fb91e\" y=\"143.1\"/>\r\n      </g>\r\n     </g>\r\n     <g id=\"text_7\">\r\n      <!-- other -->\r\n      <g transform=\"translate(14.798437 165.941406)rotate(-90)scale(0.1 -0.1)\">\r\n       <use xlink:href=\"#DejaVuSans-111\"/>\r\n       <use x=\"61.181641\" xlink:href=\"#DejaVuSans-116\"/>\r\n       <use x=\"100.390625\" xlink:href=\"#DejaVuSans-104\"/>\r\n       <use x=\"163.769531\" xlink:href=\"#DejaVuSans-101\"/>\r\n       <use x=\"225.292969\" xlink:href=\"#DejaVuSans-114\"/>\r\n      </g>\r\n     </g>\r\n    </g>\r\n    <g id=\"ytick_4\">\r\n     <g id=\"line2d_8\">\r\n      <g>\r\n       <use style=\"stroke:#000000;stroke-width:0.8;\" x=\"23.878125\" xlink:href=\"#m9f651fb91e\" y=\"197.46\"/>\r\n      </g>\r\n     </g>\r\n     <g id=\"text_8\">\r\n      <!-- wasp -->\r\n      <g transform=\"translate(14.798437 219.524844)rotate(-90)scale(0.1 -0.1)\">\r\n       <use xlink:href=\"#DejaVuSans-119\"/>\r\n       <use x=\"81.787109\" xlink:href=\"#DejaVuSans-97\"/>\r\n       <use x=\"143.066406\" xlink:href=\"#DejaVuSans-115\"/>\r\n       <use x=\"195.166016\" xlink:href=\"#DejaVuSans-112\"/>\r\n      </g>\r\n     </g>\r\n    </g>\r\n   </g>\r\n   <g id=\"text_9\">\r\n    <!-- 89 -->\r\n    <defs>\r\n     <path d=\"M 31.78125 34.625 \r\nQ 24.75 34.625 20.71875 30.859375 \r\nQ 16.703125 27.09375 16.703125 20.515625 \r\nQ 16.703125 13.921875 20.71875 10.15625 \r\nQ 24.75 6.390625 31.78125 6.390625 \r\nQ 38.8125 6.390625 42.859375 10.171875 \r\nQ 46.921875 13.96875 46.921875 20.515625 \r\nQ 46.921875 27.09375 42.890625 30.859375 \r\nQ 38.875 34.625 31.78125 34.625 \r\nz\r\nM 21.921875 38.8125 \r\nQ 15.578125 40.375 12.03125 44.71875 \r\nQ 8.5 49.078125 8.5 55.328125 \r\nQ 8.5 64.0625 14.71875 69.140625 \r\nQ 20.953125 74.21875 31.78125 74.21875 \r\nQ 42.671875 74.21875 48.875 69.140625 \r\nQ 55.078125 64.0625 55.078125 55.328125 \r\nQ 55.078125 49.078125 51.53125 44.71875 \r\nQ 48 40.375 41.703125 38.8125 \r\nQ 48.828125 37.15625 52.796875 32.3125 \r\nQ 56.78125 27.484375 56.78125 20.515625 \r\nQ 56.78125 9.90625 50.3125 4.234375 \r\nQ 43.84375 -1.421875 31.78125 -1.421875 \r\nQ 19.734375 -1.421875 13.25 4.234375 \r\nQ 6.78125 9.90625 6.78125 20.515625 \r\nQ 6.78125 27.484375 10.78125 32.3125 \r\nQ 14.796875 37.15625 21.921875 38.8125 \r\nz\r\nM 18.3125 54.390625 \r\nQ 18.3125 48.734375 21.84375 45.5625 \r\nQ 25.390625 42.390625 31.78125 42.390625 \r\nQ 38.140625 42.390625 41.71875 45.5625 \r\nQ 45.3125 48.734375 45.3125 54.390625 \r\nQ 45.3125 60.0625 41.71875 63.234375 \r\nQ 38.140625 66.40625 31.78125 66.40625 \r\nQ 25.390625 66.40625 21.84375 63.234375 \r\nQ 18.3125 60.0625 18.3125 54.390625 \r\nz\r\n\" id=\"DejaVuSans-56\"/>\r\n     <path d=\"M 10.984375 1.515625 \r\nL 10.984375 10.5 \r\nQ 14.703125 8.734375 18.5 7.8125 \r\nQ 22.3125 6.890625 25.984375 6.890625 \r\nQ 35.75 6.890625 40.890625 13.453125 \r\nQ 46.046875 20.015625 46.78125 33.40625 \r\nQ 43.953125 29.203125 39.59375 26.953125 \r\nQ 35.25 24.703125 29.984375 24.703125 \r\nQ 19.046875 24.703125 12.671875 31.3125 \r\nQ 6.296875 37.9375 6.296875 49.421875 \r\nQ 6.296875 60.640625 12.9375 67.421875 \r\nQ 19.578125 74.21875 30.609375 74.21875 \r\nQ 43.265625 74.21875 49.921875 64.515625 \r\nQ 56.59375 54.828125 56.59375 36.375 \r\nQ 56.59375 19.140625 48.40625 8.859375 \r\nQ 40.234375 -1.421875 26.421875 -1.421875 \r\nQ 22.703125 -1.421875 18.890625 -0.6875 \r\nQ 15.09375 0.046875 10.984375 1.515625 \r\nz\r\nM 30.609375 32.421875 \r\nQ 37.25 32.421875 41.125 36.953125 \r\nQ 45.015625 41.5 45.015625 49.421875 \r\nQ 45.015625 57.28125 41.125 61.84375 \r\nQ 37.25 66.40625 30.609375 66.40625 \r\nQ 23.96875 66.40625 20.09375 61.84375 \r\nQ 16.21875 57.28125 16.21875 49.421875 \r\nQ 16.21875 41.5 20.09375 36.953125 \r\nQ 23.96875 32.421875 30.609375 32.421875 \r\nz\r\n\" id=\"DejaVuSans-57\"/>\r\n    </defs>\r\n    <g style=\"fill:#262626;\" transform=\"translate(50.995625 37.139375)scale(0.1 -0.1)\">\r\n     <use xlink:href=\"#DejaVuSans-56\"/>\r\n     <use x=\"63.623047\" xlink:href=\"#DejaVuSans-57\"/>\r\n    </g>\r\n   </g>\r\n   <g id=\"text_10\">\r\n    <!-- 45 -->\r\n    <defs>\r\n     <path d=\"M 37.796875 64.3125 \r\nL 12.890625 25.390625 \r\nL 37.796875 25.390625 \r\nz\r\nM 35.203125 72.90625 \r\nL 47.609375 72.90625 \r\nL 47.609375 25.390625 \r\nL 58.015625 25.390625 \r\nL 58.015625 17.1875 \r\nL 47.609375 17.1875 \r\nL 47.609375 0 \r\nL 37.796875 0 \r\nL 37.796875 17.1875 \r\nL 4.890625 17.1875 \r\nL 4.890625 26.703125 \r\nz\r\n\" id=\"DejaVuSans-52\"/>\r\n     <path d=\"M 10.796875 72.90625 \r\nL 49.515625 72.90625 \r\nL 49.515625 64.59375 \r\nL 19.828125 64.59375 \r\nL 19.828125 46.734375 \r\nQ 21.96875 47.46875 24.109375 47.828125 \r\nQ 26.265625 48.1875 28.421875 48.1875 \r\nQ 40.625 48.1875 47.75 41.5 \r\nQ 54.890625 34.8125 54.890625 23.390625 \r\nQ 54.890625 11.625 47.5625 5.09375 \r\nQ 40.234375 -1.421875 26.90625 -1.421875 \r\nQ 22.3125 -1.421875 17.546875 -0.640625 \r\nQ 12.796875 0.140625 7.71875 1.703125 \r\nL 7.71875 11.625 \r\nQ 12.109375 9.234375 16.796875 8.0625 \r\nQ 21.484375 6.890625 26.703125 6.890625 \r\nQ 35.15625 6.890625 40.078125 11.328125 \r\nQ 45.015625 15.765625 45.015625 23.390625 \r\nQ 45.015625 31 40.078125 35.4375 \r\nQ 35.15625 39.890625 26.703125 39.890625 \r\nQ 22.75 39.890625 18.8125 39.015625 \r\nQ 14.890625 38.140625 10.796875 36.28125 \r\nz\r\n\" id=\"DejaVuSans-53\"/>\r\n    </defs>\r\n    <g style=\"fill:#ffffff;\" transform=\"translate(117.955625 37.139375)scale(0.1 -0.1)\">\r\n     <use xlink:href=\"#DejaVuSans-52\"/>\r\n     <use x=\"63.623047\" xlink:href=\"#DejaVuSans-53\"/>\r\n    </g>\r\n   </g>\r\n   <g id=\"text_11\">\r\n    <!-- 33 -->\r\n    <defs>\r\n     <path d=\"M 40.578125 39.3125 \r\nQ 47.65625 37.796875 51.625 33 \r\nQ 55.609375 28.21875 55.609375 21.1875 \r\nQ 55.609375 10.40625 48.1875 4.484375 \r\nQ 40.765625 -1.421875 27.09375 -1.421875 \r\nQ 22.515625 -1.421875 17.65625 -0.515625 \r\nQ 12.796875 0.390625 7.625 2.203125 \r\nL 7.625 11.71875 \r\nQ 11.71875 9.328125 16.59375 8.109375 \r\nQ 21.484375 6.890625 26.8125 6.890625 \r\nQ 36.078125 6.890625 40.9375 10.546875 \r\nQ 45.796875 14.203125 45.796875 21.1875 \r\nQ 45.796875 27.640625 41.28125 31.265625 \r\nQ 36.765625 34.90625 28.71875 34.90625 \r\nL 20.21875 34.90625 \r\nL 20.21875 43.015625 \r\nL 29.109375 43.015625 \r\nQ 36.375 43.015625 40.234375 45.921875 \r\nQ 44.09375 48.828125 44.09375 54.296875 \r\nQ 44.09375 59.90625 40.109375 62.90625 \r\nQ 36.140625 65.921875 28.71875 65.921875 \r\nQ 24.65625 65.921875 20.015625 65.03125 \r\nQ 15.375 64.15625 9.8125 62.3125 \r\nL 9.8125 71.09375 \r\nQ 15.4375 72.65625 20.34375 73.4375 \r\nQ 25.25 74.21875 29.59375 74.21875 \r\nQ 40.828125 74.21875 47.359375 69.109375 \r\nQ 53.90625 64.015625 53.90625 55.328125 \r\nQ 53.90625 49.265625 50.4375 45.09375 \r\nQ 46.96875 40.921875 40.578125 39.3125 \r\nz\r\n\" id=\"DejaVuSans-51\"/>\r\n    </defs>\r\n    <g style=\"fill:#ffffff;\" transform=\"translate(184.915625 37.139375)scale(0.1 -0.1)\">\r\n     <use xlink:href=\"#DejaVuSans-51\"/>\r\n     <use x=\"63.623047\" xlink:href=\"#DejaVuSans-51\"/>\r\n    </g>\r\n   </g>\r\n   <g id=\"text_12\">\r\n    <!-- 88 -->\r\n    <g style=\"fill:#262626;\" transform=\"translate(251.875625 37.139375)scale(0.1 -0.1)\">\r\n     <use xlink:href=\"#DejaVuSans-56\"/>\r\n     <use x=\"63.623047\" xlink:href=\"#DejaVuSans-56\"/>\r\n    </g>\r\n   </g>\r\n   <g id=\"text_13\">\r\n    <!-- 39 -->\r\n    <g style=\"fill:#ffffff;\" transform=\"translate(50.995625 91.499375)scale(0.1 -0.1)\">\r\n     <use xlink:href=\"#DejaVuSans-51\"/>\r\n     <use x=\"63.623047\" xlink:href=\"#DejaVuSans-57\"/>\r\n    </g>\r\n   </g>\r\n   <g id=\"text_14\">\r\n    <!-- 22 -->\r\n    <defs>\r\n     <path d=\"M 19.1875 8.296875 \r\nL 53.609375 8.296875 \r\nL 53.609375 0 \r\nL 7.328125 0 \r\nL 7.328125 8.296875 \r\nQ 12.9375 14.109375 22.625 23.890625 \r\nQ 32.328125 33.6875 34.8125 36.53125 \r\nQ 39.546875 41.84375 41.421875 45.53125 \r\nQ 43.3125 49.21875 43.3125 52.78125 \r\nQ 43.3125 58.59375 39.234375 62.25 \r\nQ 35.15625 65.921875 28.609375 65.921875 \r\nQ 23.96875 65.921875 18.8125 64.3125 \r\nQ 13.671875 62.703125 7.8125 59.421875 \r\nL 7.8125 69.390625 \r\nQ 13.765625 71.78125 18.9375 73 \r\nQ 24.125 74.21875 28.421875 74.21875 \r\nQ 39.75 74.21875 46.484375 68.546875 \r\nQ 53.21875 62.890625 53.21875 53.421875 \r\nQ 53.21875 48.921875 51.53125 44.890625 \r\nQ 49.859375 40.875 45.40625 35.40625 \r\nQ 44.1875 33.984375 37.640625 27.21875 \r\nQ 31.109375 20.453125 19.1875 8.296875 \r\nz\r\n\" id=\"DejaVuSans-50\"/>\r\n    </defs>\r\n    <g style=\"fill:#ffffff;\" transform=\"translate(117.955625 91.499375)scale(0.1 -0.1)\">\r\n     <use xlink:href=\"#DejaVuSans-50\"/>\r\n     <use x=\"63.623047\" xlink:href=\"#DejaVuSans-50\"/>\r\n    </g>\r\n   </g>\r\n   <g id=\"text_15\">\r\n    <!-- 17 -->\r\n    <defs>\r\n     <path d=\"M 12.40625 8.296875 \r\nL 28.515625 8.296875 \r\nL 28.515625 63.921875 \r\nL 10.984375 60.40625 \r\nL 10.984375 69.390625 \r\nL 28.421875 72.90625 \r\nL 38.28125 72.90625 \r\nL 38.28125 8.296875 \r\nL 54.390625 8.296875 \r\nL 54.390625 0 \r\nL 12.40625 0 \r\nz\r\n\" id=\"DejaVuSans-49\"/>\r\n     <path d=\"M 8.203125 72.90625 \r\nL 55.078125 72.90625 \r\nL 55.078125 68.703125 \r\nL 28.609375 0 \r\nL 18.3125 0 \r\nL 43.21875 64.59375 \r\nL 8.203125 64.59375 \r\nz\r\n\" id=\"DejaVuSans-55\"/>\r\n    </defs>\r\n    <g style=\"fill:#ffffff;\" transform=\"translate(184.915625 91.499375)scale(0.1 -0.1)\">\r\n     <use xlink:href=\"#DejaVuSans-49\"/>\r\n     <use x=\"63.623047\" xlink:href=\"#DejaVuSans-55\"/>\r\n    </g>\r\n   </g>\r\n   <g id=\"text_16\">\r\n    <!-- 57 -->\r\n    <g style=\"fill:#ffffff;\" transform=\"translate(251.875625 91.499375)scale(0.1 -0.1)\">\r\n     <use xlink:href=\"#DejaVuSans-53\"/>\r\n     <use x=\"63.623047\" xlink:href=\"#DejaVuSans-55\"/>\r\n    </g>\r\n   </g>\r\n   <g id=\"text_17\">\r\n    <!-- 30 -->\r\n    <defs>\r\n     <path d=\"M 31.78125 66.40625 \r\nQ 24.171875 66.40625 20.328125 58.90625 \r\nQ 16.5 51.421875 16.5 36.375 \r\nQ 16.5 21.390625 20.328125 13.890625 \r\nQ 24.171875 6.390625 31.78125 6.390625 \r\nQ 39.453125 6.390625 43.28125 13.890625 \r\nQ 47.125 21.390625 47.125 36.375 \r\nQ 47.125 51.421875 43.28125 58.90625 \r\nQ 39.453125 66.40625 31.78125 66.40625 \r\nz\r\nM 31.78125 74.21875 \r\nQ 44.046875 74.21875 50.515625 64.515625 \r\nQ 56.984375 54.828125 56.984375 36.375 \r\nQ 56.984375 17.96875 50.515625 8.265625 \r\nQ 44.046875 -1.421875 31.78125 -1.421875 \r\nQ 19.53125 -1.421875 13.0625 8.265625 \r\nQ 6.59375 17.96875 6.59375 36.375 \r\nQ 6.59375 54.828125 13.0625 64.515625 \r\nQ 19.53125 74.21875 31.78125 74.21875 \r\nz\r\n\" id=\"DejaVuSans-48\"/>\r\n    </defs>\r\n    <g style=\"fill:#ffffff;\" transform=\"translate(50.995625 145.859375)scale(0.1 -0.1)\">\r\n     <use xlink:href=\"#DejaVuSans-51\"/>\r\n     <use x=\"63.623047\" xlink:href=\"#DejaVuSans-48\"/>\r\n    </g>\r\n   </g>\r\n   <g id=\"text_18\">\r\n    <!-- 9 -->\r\n    <g style=\"fill:#ffffff;\" transform=\"translate(121.136875 145.859375)scale(0.1 -0.1)\">\r\n     <use xlink:href=\"#DejaVuSans-57\"/>\r\n    </g>\r\n   </g>\r\n   <g id=\"text_19\">\r\n    <!-- 11 -->\r\n    <g style=\"fill:#ffffff;\" transform=\"translate(184.915625 145.859375)scale(0.1 -0.1)\">\r\n     <use xlink:href=\"#DejaVuSans-49\"/>\r\n     <use x=\"63.623047\" xlink:href=\"#DejaVuSans-49\"/>\r\n    </g>\r\n   </g>\r\n   <g id=\"text_20\">\r\n    <!-- 31 -->\r\n    <g style=\"fill:#ffffff;\" transform=\"translate(251.875625 145.859375)scale(0.1 -0.1)\">\r\n     <use xlink:href=\"#DejaVuSans-51\"/>\r\n     <use x=\"63.623047\" xlink:href=\"#DejaVuSans-49\"/>\r\n    </g>\r\n   </g>\r\n   <g id=\"text_21\">\r\n    <!-- 80 -->\r\n    <g style=\"fill:#262626;\" transform=\"translate(50.995625 200.219375)scale(0.1 -0.1)\">\r\n     <use xlink:href=\"#DejaVuSans-56\"/>\r\n     <use x=\"63.623047\" xlink:href=\"#DejaVuSans-48\"/>\r\n    </g>\r\n   </g>\r\n   <g id=\"text_22\">\r\n    <!-- 46 -->\r\n    <defs>\r\n     <path d=\"M 33.015625 40.375 \r\nQ 26.375 40.375 22.484375 35.828125 \r\nQ 18.609375 31.296875 18.609375 23.390625 \r\nQ 18.609375 15.53125 22.484375 10.953125 \r\nQ 26.375 6.390625 33.015625 6.390625 \r\nQ 39.65625 6.390625 43.53125 10.953125 \r\nQ 47.40625 15.53125 47.40625 23.390625 \r\nQ 47.40625 31.296875 43.53125 35.828125 \r\nQ 39.65625 40.375 33.015625 40.375 \r\nz\r\nM 52.59375 71.296875 \r\nL 52.59375 62.3125 \r\nQ 48.875 64.0625 45.09375 64.984375 \r\nQ 41.3125 65.921875 37.59375 65.921875 \r\nQ 27.828125 65.921875 22.671875 59.328125 \r\nQ 17.53125 52.734375 16.796875 39.40625 \r\nQ 19.671875 43.65625 24.015625 45.921875 \r\nQ 28.375 48.1875 33.59375 48.1875 \r\nQ 44.578125 48.1875 50.953125 41.515625 \r\nQ 57.328125 34.859375 57.328125 23.390625 \r\nQ 57.328125 12.15625 50.6875 5.359375 \r\nQ 44.046875 -1.421875 33.015625 -1.421875 \r\nQ 20.359375 -1.421875 13.671875 8.265625 \r\nQ 6.984375 17.96875 6.984375 36.375 \r\nQ 6.984375 53.65625 15.1875 63.9375 \r\nQ 23.390625 74.21875 37.203125 74.21875 \r\nQ 40.921875 74.21875 44.703125 73.484375 \r\nQ 48.484375 72.75 52.59375 71.296875 \r\nz\r\n\" id=\"DejaVuSans-54\"/>\r\n    </defs>\r\n    <g style=\"fill:#ffffff;\" transform=\"translate(117.955625 200.219375)scale(0.1 -0.1)\">\r\n     <use xlink:href=\"#DejaVuSans-52\"/>\r\n     <use x=\"63.623047\" xlink:href=\"#DejaVuSans-54\"/>\r\n    </g>\r\n   </g>\r\n   <g id=\"text_23\">\r\n    <!-- 40 -->\r\n    <g style=\"fill:#ffffff;\" transform=\"translate(184.915625 200.219375)scale(0.1 -0.1)\">\r\n     <use xlink:href=\"#DejaVuSans-52\"/>\r\n     <use x=\"63.623047\" xlink:href=\"#DejaVuSans-48\"/>\r\n    </g>\r\n   </g>\r\n   <g id=\"text_24\">\r\n    <!-- 86 -->\r\n    <g style=\"fill:#262626;\" transform=\"translate(251.875625 200.219375)scale(0.1 -0.1)\">\r\n     <use xlink:href=\"#DejaVuSans-56\"/>\r\n     <use x=\"63.623047\" xlink:href=\"#DejaVuSans-54\"/>\r\n    </g>\r\n   </g>\r\n  </g>\r\n  <g id=\"axes_2\">\r\n   <g id=\"patch_3\">\r\n    <path clip-path=\"url(#pdd03b87786)\" d=\"M 308.458125 224.64 \r\nL 308.458125 223.790625 \r\nL 308.458125 8.049375 \r\nL 308.458125 7.2 \r\nL 319.330125 7.2 \r\nL 319.330125 8.049375 \r\nL 319.330125 223.790625 \r\nL 319.330125 224.64 \r\nz\r\n\" style=\"fill:#ffffff;stroke:#ffffff;stroke-linejoin:miter;stroke-width:0.01;\"/>\r\n   </g>\r\n   <image height=\"217\" id=\"image32e979dd7a\" transform=\"scale(1 -1)translate(0 -217)\" width=\"11\" x=\"308\" xlink:href=\"data:image/png;base64,\r\niVBORw0KGgoAAAANSUhEUgAAAAsAAADZCAYAAAD2WsoCAAAABHNCSVQICAgIfAhkiAAAAV9JREFUaIHVmtsNAzEIwHjdEt1/zl5XwB+WaL4RMoakuag5z+eN5ZrM3MbS4ADBXSVlLq3AIhgoM7LhYRzx3OnZODF1qECxKTcym+3WbGgYE2g29sucDa3dEGO/zJOfBI82SMyG125vW61D6fB76qANgCGq05iRjSPMCIPtbpKZFbj+PPhbGySY2PAw5gYGazdhHoRxxIaGMe8+tbgH6wYGspFhMcMCAUYzZhIMRIvqEpwF0yS4SDDCgJnXsTFdXymzWCA47BhzNbABmQEGUifaGG02ELOmrsBVhmGENxteMLj3kMceqo5lBjdzlhncCyYIhsfMMMDPJsxMnixQZhhM3us0G0GeDT0bSWxEt4SBmuJ5ztEKFNtNMqM9CD55VRukgx4GssHOOtRBSx3c3RqGVyDK3Gj4bzCzdqN51jZs3pg60QYp8MbwZz9SZnP4iWfSbvQviysFsnZrZ51V4A9keCojHT7iJgAAAABJRU5ErkJggg==\" y=\"-7\"/>\r\n   <g id=\"matplotlib.axis_3\"/>\r\n   <g id=\"matplotlib.axis_4\">\r\n    <g id=\"ytick_5\">\r\n     <g id=\"line2d_9\">\r\n      <defs>\r\n       <path d=\"M 0 0 \r\nL 3.5 0 \r\n\" id=\"m23067625ab\" style=\"stroke:#000000;stroke-width:0.8;\"/>\r\n      </defs>\r\n      <g>\r\n       <use style=\"stroke:#000000;stroke-width:0.8;\" x=\"319.330125\" xlink:href=\"#m23067625ab\" y=\"221.922\"/>\r\n      </g>\r\n     </g>\r\n     <g id=\"text_25\">\r\n      <!-- 10 -->\r\n      <g transform=\"translate(326.330125 225.721219)scale(0.1 -0.1)\">\r\n       <use xlink:href=\"#DejaVuSans-49\"/>\r\n       <use x=\"63.623047\" xlink:href=\"#DejaVuSans-48\"/>\r\n      </g>\r\n     </g>\r\n    </g>\r\n    <g id=\"ytick_6\">\r\n     <g id=\"line2d_10\">\r\n      <g>\r\n       <use style=\"stroke:#000000;stroke-width:0.8;\" x=\"319.330125\" xlink:href=\"#m23067625ab\" y=\"194.742\"/>\r\n      </g>\r\n     </g>\r\n     <g id=\"text_26\">\r\n      <!-- 20 -->\r\n      <g transform=\"translate(326.330125 198.541219)scale(0.1 -0.1)\">\r\n       <use xlink:href=\"#DejaVuSans-50\"/>\r\n       <use x=\"63.623047\" xlink:href=\"#DejaVuSans-48\"/>\r\n      </g>\r\n     </g>\r\n    </g>\r\n    <g id=\"ytick_7\">\r\n     <g id=\"line2d_11\">\r\n      <g>\r\n       <use style=\"stroke:#000000;stroke-width:0.8;\" x=\"319.330125\" xlink:href=\"#m23067625ab\" y=\"167.562\"/>\r\n      </g>\r\n     </g>\r\n     <g id=\"text_27\">\r\n      <!-- 30 -->\r\n      <g transform=\"translate(326.330125 171.361219)scale(0.1 -0.1)\">\r\n       <use xlink:href=\"#DejaVuSans-51\"/>\r\n       <use x=\"63.623047\" xlink:href=\"#DejaVuSans-48\"/>\r\n      </g>\r\n     </g>\r\n    </g>\r\n    <g id=\"ytick_8\">\r\n     <g id=\"line2d_12\">\r\n      <g>\r\n       <use style=\"stroke:#000000;stroke-width:0.8;\" x=\"319.330125\" xlink:href=\"#m23067625ab\" y=\"140.382\"/>\r\n      </g>\r\n     </g>\r\n     <g id=\"text_28\">\r\n      <!-- 40 -->\r\n      <g transform=\"translate(326.330125 144.181219)scale(0.1 -0.1)\">\r\n       <use xlink:href=\"#DejaVuSans-52\"/>\r\n       <use x=\"63.623047\" xlink:href=\"#DejaVuSans-48\"/>\r\n      </g>\r\n     </g>\r\n    </g>\r\n    <g id=\"ytick_9\">\r\n     <g id=\"line2d_13\">\r\n      <g>\r\n       <use style=\"stroke:#000000;stroke-width:0.8;\" x=\"319.330125\" xlink:href=\"#m23067625ab\" y=\"113.202\"/>\r\n      </g>\r\n     </g>\r\n     <g id=\"text_29\">\r\n      <!-- 50 -->\r\n      <g transform=\"translate(326.330125 117.001219)scale(0.1 -0.1)\">\r\n       <use xlink:href=\"#DejaVuSans-53\"/>\r\n       <use x=\"63.623047\" xlink:href=\"#DejaVuSans-48\"/>\r\n      </g>\r\n     </g>\r\n    </g>\r\n    <g id=\"ytick_10\">\r\n     <g id=\"line2d_14\">\r\n      <g>\r\n       <use style=\"stroke:#000000;stroke-width:0.8;\" x=\"319.330125\" xlink:href=\"#m23067625ab\" y=\"86.022\"/>\r\n      </g>\r\n     </g>\r\n     <g id=\"text_30\">\r\n      <!-- 60 -->\r\n      <g transform=\"translate(326.330125 89.821219)scale(0.1 -0.1)\">\r\n       <use xlink:href=\"#DejaVuSans-54\"/>\r\n       <use x=\"63.623047\" xlink:href=\"#DejaVuSans-48\"/>\r\n      </g>\r\n     </g>\r\n    </g>\r\n    <g id=\"ytick_11\">\r\n     <g id=\"line2d_15\">\r\n      <g>\r\n       <use style=\"stroke:#000000;stroke-width:0.8;\" x=\"319.330125\" xlink:href=\"#m23067625ab\" y=\"58.842\"/>\r\n      </g>\r\n     </g>\r\n     <g id=\"text_31\">\r\n      <!-- 70 -->\r\n      <g transform=\"translate(326.330125 62.641219)scale(0.1 -0.1)\">\r\n       <use xlink:href=\"#DejaVuSans-55\"/>\r\n       <use x=\"63.623047\" xlink:href=\"#DejaVuSans-48\"/>\r\n      </g>\r\n     </g>\r\n    </g>\r\n    <g id=\"ytick_12\">\r\n     <g id=\"line2d_16\">\r\n      <g>\r\n       <use style=\"stroke:#000000;stroke-width:0.8;\" x=\"319.330125\" xlink:href=\"#m23067625ab\" y=\"31.662\"/>\r\n      </g>\r\n     </g>\r\n     <g id=\"text_32\">\r\n      <!-- 80 -->\r\n      <g transform=\"translate(326.330125 35.461219)scale(0.1 -0.1)\">\r\n       <use xlink:href=\"#DejaVuSans-56\"/>\r\n       <use x=\"63.623047\" xlink:href=\"#DejaVuSans-48\"/>\r\n      </g>\r\n     </g>\r\n    </g>\r\n   </g>\r\n   <g id=\"patch_4\">\r\n    <path d=\"M 308.458125 224.64 \r\nL 308.458125 223.790625 \r\nL 308.458125 8.049375 \r\nL 308.458125 7.2 \r\nL 319.330125 7.2 \r\nL 319.330125 8.049375 \r\nL 319.330125 223.790625 \r\nL 319.330125 224.64 \r\nz\r\n\" style=\"fill:none;\"/>\r\n   </g>\r\n  </g>\r\n </g>\r\n <defs>\r\n  <clipPath id=\"pefb2f9f37b\">\r\n   <rect height=\"217.44\" width=\"267.84\" x=\"23.878125\" y=\"7.2\"/>\r\n  </clipPath>\r\n  <clipPath id=\"pdd03b87786\">\r\n   <rect height=\"217.44\" width=\"10.872\" x=\"308.458125\" y=\"7.2\"/>\r\n  </clipPath>\r\n </defs>\r\n</svg>\r\n",
      "image/png": "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\n"
     },
     "metadata": {
      "needs_background": "light"
     }
    }
   ],
   "source": [
    "import matplotlib.cm as cm\n",
    "import seaborn as sns\n",
    "from sklearn.metrics import classification_report, confusion_matrix, plot_confusion_matrix\n"
   ]
  },
  {
   "cell_type": "code",
   "execution_count": 91,
   "metadata": {},
   "outputs": [],
   "source": []
  },
  {
   "cell_type": "code",
   "execution_count": null,
   "metadata": {},
   "outputs": [],
   "source": []
  }
 ]
}
